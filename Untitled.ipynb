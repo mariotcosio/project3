{
 "cells": [
  {
   "cell_type": "code",
   "execution_count": 1,
   "metadata": {},
   "outputs": [],
   "source": [
    "import pandas as pd\n",
    "import os\n",
    "import pycountry\n",
    "from pycountry_convert import country_alpha3_to_country_alpha2 as a3a2"
   ]
  },
  {
   "cell_type": "code",
   "execution_count": 2,
   "metadata": {},
   "outputs": [],
   "source": [
    "df1 = pd.read_csv(\"Resources/location_data/country_lon&lat.csv\")\n",
    "df2 = pd.read_csv(\"Resources/location_data/WILD_LIFE.csv\")"
   ]
  },
  {
   "cell_type": "code",
   "execution_count": 4,
   "metadata": {},
   "outputs": [],
   "source": [
    "list_alpha_2 = [i.alpha_2 for i in list(pycountry.countries)]\n",
    "list_alpha_3 = [i.alpha_3 for i in list(pycountry.countries)]   \n"
   ]
  },
  {
   "cell_type": "code",
   "execution_count": 6,
   "metadata": {},
   "outputs": [
    {
     "name": "stdout",
     "output_type": "stream",
     "text": [
      "     country            SPEC            IUCN    Value\n",
      "0        AUS          MAMMAL       TOT_KNOWN  402.000\n",
      "1        AUS          MAMMAL      ENDANGERED   37.000\n",
      "2        AUS          MAMMAL        CRITICAL    5.000\n",
      "3        AUS          MAMMAL      VULNERABLE   67.000\n",
      "4        AUS          MAMMAL      THREATENED  109.000\n",
      "5        AUT          MAMMAL       TOT_KNOWN  101.000\n",
      "6        AUT          MAMMAL   TOT_KNOWN_IND  101.000\n",
      "7        AUT          MAMMAL      ENDANGERED    6.000\n",
      "8        AUT          MAMMAL        CRITICAL    4.000\n",
      "9        AUT          MAMMAL      VULNERABLE   17.000\n",
      "10       AUT          MAMMAL      THREATENED   27.000\n",
      "11       AUT          MAMMAL  ENDANGERED_IND    6.000\n",
      "12       AUT          MAMMAL    CRITICAL_IND    4.000\n",
      "13       AUT          MAMMAL  VULNERABLE_IND   17.000\n",
      "14       BEL          MAMMAL       TOT_KNOWN   84.000\n",
      "15       BEL          MAMMAL   TOT_KNOWN_IND   65.000\n",
      "16       BEL          MAMMAL      ENDANGERED    2.000\n",
      "17       BEL          MAMMAL        CRITICAL    4.000\n",
      "18       BEL          MAMMAL      VULNERABLE   12.000\n",
      "19       BEL          MAMMAL      THREATENED   18.000\n",
      "20       BEL          MAMMAL  ENDANGERED_IND    2.000\n",
      "21       BEL          MAMMAL    CRITICAL_IND    4.000\n",
      "22       BEL          MAMMAL  VULNERABLE_IND   12.000\n",
      "23       CAN          MAMMAL       TOT_KNOWN  221.000\n",
      "24       CAN          MAMMAL   TOT_KNOWN_IND  209.000\n",
      "25       CAN          MAMMAL      ENDANGERED   10.000\n",
      "26       CAN          MAMMAL      VULNERABLE   31.000\n",
      "27       CAN          MAMMAL      THREATENED   52.000\n",
      "28       CAN          MAMMAL  ENDANGERED_IND   10.000\n",
      "29       CAN          MAMMAL  VULNERABLE_IND   31.000\n",
      "...      ...             ...             ...      ...\n",
      "3231     JPN        FISH_TOT        CRITICAL   79.000\n",
      "3232     JPN        MARINE_F        CRITICAL    8.000\n",
      "3233     JPN        FISH_TOT      VULNERABLE   46.000\n",
      "3234     JPN        MARINE_F      VULNERABLE    2.000\n",
      "3235     JPN        FISH_TOT      THREATENED  185.000\n",
      "3236     JPN        MARINE_F      THREATENED   16.000\n",
      "3237     JPN        FISH_TOT  THREAT_PERCENT    4.302\n",
      "3238     JPN        MARINE_F  THREAT_PERCENT    0.410\n",
      "3239     LUX        INVERTEB        CRITICAL    7.000\n",
      "3240     GBR            MOSS       TOT_KNOWN  805.000\n",
      "3241     GBR            MOSS  THREAT_PERCENT   15.280\n",
      "3242     LTU            BIRD        CRITICAL   19.000\n",
      "3243     LTU  VASCULAR_PLANT        CRITICAL   23.000\n",
      "3244     LTU        FISH_TOT        CRITICAL    3.000\n",
      "3245     LTU        MARINE_F        CRITICAL    1.000\n",
      "3246     LTU        FRESHW_F        CRITICAL    2.000\n",
      "3247     LTU            MOSS        CRITICAL    9.000\n",
      "3248     LTU          LICHEN        CRITICAL   24.000\n",
      "3249     LTU        INVERTEB        CRITICAL   13.000\n",
      "3250     LTU            BIRD    CRITICAL_IND   19.000\n",
      "3251     LTU  VASCULAR_PLANT    CRITICAL_IND   23.000\n",
      "3252     LTU        FISH_TOT    CRITICAL_IND    3.000\n",
      "3253     LTU        MARINE_F    CRITICAL_IND    1.000\n",
      "3254     LTU        FRESHW_F    CRITICAL_IND    2.000\n",
      "3255     LTU            MOSS    CRITICAL_IND    9.000\n",
      "3256     LTU          LICHEN    CRITICAL_IND   24.000\n",
      "3257     LTU        INVERTEB    CRITICAL_IND   13.000\n",
      "3258     LTU       AMPHIBIAN  THREAT_PERCENT   15.385\n",
      "3259     LTU        FRESHW_F  THREAT_PERCENT    7.407\n",
      "3260     LTU       AMPHIBIAN     IND_PERCENT   15.385\n",
      "\n",
      "[3261 rows x 4 columns]\n"
     ]
    }
   ],
   "source": [
    "print (df2)"
   ]
  },
  {
   "cell_type": "code",
   "execution_count": 7,
   "metadata": {},
   "outputs": [
    {
     "ename": "NameError",
     "evalue": "name 'country_alpha3_to_country_name' is not defined",
     "output_type": "error",
     "traceback": [
      "\u001b[1;31m---------------------------------------------------------------------------\u001b[0m",
      "\u001b[1;31mNameError\u001b[0m                                 Traceback (most recent call last)",
      "\u001b[1;32m<ipython-input-7-eb964c148286>\u001b[0m in \u001b[0;36m<module>\u001b[1;34m\u001b[0m\n\u001b[1;32m----> 1\u001b[1;33m \u001b[0mcountry_alpha3_to_country_name\u001b[0m\u001b[1;33m(\u001b[0m\u001b[0mcn_name_format\u001b[0m\u001b[1;33m=\u001b[0m\u001b[1;34m\"default\"\u001b[0m\u001b[1;33m)\u001b[0m\u001b[1;33m\u001b[0m\u001b[1;33m\u001b[0m\u001b[0m\n\u001b[0m",
      "\u001b[1;31mNameError\u001b[0m: name 'country_alpha3_to_country_name' is not defined"
     ]
    }
   ],
   "source": [
    "a3a2(cn_name_format=\"default\")"
   ]
  },
  {
   "cell_type": "code",
   "execution_count": null,
   "metadata": {},
   "outputs": [],
   "source": [
    "df_merge = pd.merge(df1,\n",
    "                 df2[['country','Value']],\n",
    "                 on='country')\n",
    "print (df_merge)"
   ]
  },
  {
   "cell_type": "code",
   "execution_count": null,
   "metadata": {},
   "outputs": [],
   "source": []
  }
 ],
 "metadata": {
  "kernelspec": {
   "display_name": "Python 3",
   "language": "python",
   "name": "python3"
  },
  "language_info": {
   "codemirror_mode": {
    "name": "ipython",
    "version": 3
   },
   "file_extension": ".py",
   "mimetype": "text/x-python",
   "name": "python",
   "nbconvert_exporter": "python",
   "pygments_lexer": "ipython3",
   "version": "3.7.3"
  }
 },
 "nbformat": 4,
 "nbformat_minor": 2
}
